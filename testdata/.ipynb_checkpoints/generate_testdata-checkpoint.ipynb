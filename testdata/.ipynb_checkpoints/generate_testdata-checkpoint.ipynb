{
 "cells": [
  {
   "cell_type": "code",
   "execution_count": 1,
   "metadata": {},
   "outputs": [],
   "source": [
    "# import packages\n",
    "import numpy as np"
   ]
  },
  {
   "cell_type": "code",
   "execution_count": 2,
   "metadata": {},
   "outputs": [],
   "source": [
    "# generate timeseries data for changefinder\n",
    "\n",
    "data=np.concatenate([\n",
    "np.random.normal(0.7, 0.05, 3000),\n",
    "np.random.normal(1.5, 0.05, 3000),\n",
    "np.random.normal(0.6, 0.05, 3000),\n",
    "np.random.normal(1.3, 0.05, 3000)])"
   ]
  },
  {
   "cell_type": "code",
   "execution_count": 3,
   "metadata": {},
   "outputs": [],
   "source": [
    "# save timeseries data\n",
    "np.savetxt('data.out', data, fmt=\"%.18f\", delimiter=',')"
   ]
  }
 ],
 "metadata": {
  "kernelspec": {
   "display_name": "Python 3",
   "language": "python",
   "name": "python3"
  },
  "language_info": {
   "codemirror_mode": {
    "name": "ipython",
    "version": 3
   },
   "file_extension": ".py",
   "mimetype": "text/x-python",
   "name": "python",
   "nbconvert_exporter": "python",
   "pygments_lexer": "ipython3",
   "version": "3.6.7"
  }
 },
 "nbformat": 4,
 "nbformat_minor": 2
}
